{
 "cells": [
  {
   "cell_type": "markdown",
   "metadata": {},
   "source": [
    "# Settings"
   ]
  },
  {
   "cell_type": "code",
   "execution_count": 21,
   "metadata": {},
   "outputs": [],
   "source": [
    "from pydantic import BaseModel, Field\n",
    "from pydantic_settings import BaseSettings\n",
    "\n",
    "\n",
    "class Auth(BaseSettings):\n",
    "\n",
    "    api_key: str = Field(alias=\"API_KEY\")"
   ]
  },
  {
   "cell_type": "code",
   "execution_count": 22,
   "metadata": {},
   "outputs": [
    {
     "name": "stdout",
     "output_type": "stream",
     "text": [
      "1 validation error for Auth\n",
      "API_KEY\n",
      "  Field required [type=missing, input_value={}, input_type=dict]\n",
      "    For further information visit https://errors.pydantic.dev/2.4/v/missing\n"
     ]
    }
   ],
   "source": [
    "try:\n",
    "    Auth()\n",
    "except Exception as e:\n",
    "    print(e)"
   ]
  },
  {
   "cell_type": "code",
   "execution_count": 23,
   "metadata": {},
   "outputs": [
    {
     "data": {
      "text/plain": [
       "Auth(api_key='xxx')"
      ]
     },
     "execution_count": 23,
     "metadata": {},
     "output_type": "execute_result"
    }
   ],
   "source": [
    "auth = Auth(API_KEY=\"xxx\")\n",
    "auth"
   ]
  },
  {
   "cell_type": "code",
   "execution_count": 24,
   "metadata": {},
   "outputs": [
    {
     "data": {
      "text/plain": [
       "Auth(api_key='yyy')"
      ]
     },
     "execution_count": 24,
     "metadata": {},
     "output_type": "execute_result"
    }
   ],
   "source": [
    "import os\n",
    "\n",
    "os.environ[\"API_KEY\"] = \"yyy\"\n",
    "auth = Auth()\n",
    "os.environ.pop(\"API_KEY\")\n",
    "\n",
    "auth"
   ]
  },
  {
   "cell_type": "code",
   "execution_count": 46,
   "metadata": {},
   "outputs": [
    {
     "name": "stdout",
     "output_type": "stream",
     "text": [
      "1 validation error for Auth\n",
      "API_KEY\n",
      "  Field required [type=missing, input_value={}, input_type=dict]\n",
      "    For further information visit https://errors.pydantic.dev/2.4/v/missing\n"
     ]
    },
    {
     "data": {
      "text/plain": [
       "Config(auth=Auth(api_key='yyy'))"
      ]
     },
     "execution_count": 46,
     "metadata": {},
     "output_type": "execute_result"
    }
   ],
   "source": [
    "from typing import Optional\n",
    "from abc import ABC\n",
    "from pydantic import BaseModel, Field\n",
    "from pydantic_settings import BaseSettings\n",
    "\n",
    "\n",
    "class Auth(BaseSettings):\n",
    "\n",
    "    api_key: str = Field(alias=\"API_KEY\")\n",
    "\n",
    "\n",
    "try:\n",
    "\n",
    "    class Config(BaseModel):\n",
    "\n",
    "        auth: Auth = Auth()\n",
    "\n",
    "    os.environ[\"API_KEY\"] = \"yyy\"\n",
    "\n",
    "    config = Config()\n",
    "\n",
    "    os.environ.pop(\"API_KEY\")\n",
    "\n",
    "except Exception as e:\n",
    "    print(e)\n",
    "\n",
    "\n",
    "config"
   ]
  },
  {
   "cell_type": "code",
   "execution_count": 86,
   "metadata": {},
   "outputs": [
    {
     "name": "stdout",
     "output_type": "stream",
     "text": [
      "None\n",
      "<class 'NoneType'>\n",
      "{'_inst': True, '_name': 'Optional', '__origin__': typing.Union, '__slots__': None, '__args__': (<class '__main__.Auth'>, <class 'NoneType'>), '__parameters__': (), '_paramspec_tvars': False}\n"
     ]
    },
    {
     "data": {
      "text/plain": [
       "'yyy'"
      ]
     },
     "execution_count": 86,
     "metadata": {},
     "output_type": "execute_result"
    }
   ],
   "source": [
    "from typing import Optional, Any\n",
    "from abc import ABC\n",
    "from pydantic import BaseModel, Field\n",
    "from pydantic_settings import BaseSettings\n",
    "\n",
    "\n",
    "class Auth(BaseSettings):\n",
    "\n",
    "    api_key: str = Field(alias=\"API_KEY\")\n",
    "\n",
    "\n",
    "class Config(BaseModel):\n",
    "\n",
    "    auth: Optional[Auth] = None\n",
    "\n",
    "    def model_post_init(self, __context: Any) -> None:\n",
    "        # Call method of super class\n",
    "        super().model_post_init(__context)\n",
    "\n",
    "        # initialize auth\n",
    "        if self.auth is None:\n",
    "            print(self.auth)\n",
    "            print(self.auth.__class__)\n",
    "            # args = self.model_fields.get(\"auth\").annotation.__args__\n",
    "            # print(args)\n",
    "            # arg = list(filter(lambda x: x != type(None), args))\n",
    "            # print(arg)\n",
    "\n",
    "            args = self.model_fields.get(\"auth\").annotation.__dict__\n",
    "            print(args)\n",
    "\n",
    "            self.auth = self.auth.__class__()\n",
    "\n",
    "\n",
    "os.environ[\"API_KEY\"] = \"yyy\"\n",
    "\n",
    "config = Config()\n",
    "\n",
    "os.environ.pop(\"API_KEY\")"
   ]
  },
  {
   "cell_type": "code",
   "execution_count": 51,
   "metadata": {},
   "outputs": [
    {
     "data": {
      "text/plain": [
       "__main__.Auth"
      ]
     },
     "execution_count": 51,
     "metadata": {},
     "output_type": "execute_result"
    }
   ],
   "source": [
    "config.auth.__class__"
   ]
  },
  {
   "cell_type": "code",
   "execution_count": 96,
   "metadata": {},
   "outputs": [
    {
     "data": {
      "text/plain": [
       "OpenAIAuth(api_key='yyy')"
      ]
     },
     "execution_count": 96,
     "metadata": {},
     "output_type": "execute_result"
    }
   ],
   "source": [
    "from abc import ABC, abstractmethod\n",
    "\n",
    "class LLMAuth(BaseSettings, ABC):\n",
    "\n",
    "    @property\n",
    "    def runtime_type(self):\n",
    "        return self.__class__\n",
    "\n",
    "\n",
    "class OpenAIAuth(LLMAuth):\n",
    "    api_key: str = Field(alias=\"API_KEY\")\n",
    "\n",
    "\n",
    "os.environ[\"API_KEY\"] = \"yyy\"\n",
    "auth = OpenAIAuth()\n",
    "os.environ.pop(\"API_KEY\")\n",
    "\n",
    "auth"
   ]
  },
  {
   "cell_type": "code",
   "execution_count": 97,
   "metadata": {},
   "outputs": [
    {
     "data": {
      "text/plain": [
       "__main__.OpenAIAuth"
      ]
     },
     "execution_count": 97,
     "metadata": {},
     "output_type": "execute_result"
    }
   ],
   "source": [
    "auth.runtime_type"
   ]
  },
  {
   "cell_type": "code",
   "execution_count": null,
   "metadata": {},
   "outputs": [],
   "source": []
  }
 ],
 "metadata": {
  "kernelspec": {
   "display_name": "py-notes",
   "language": "python",
   "name": "python3"
  },
  "language_info": {
   "codemirror_mode": {
    "name": "ipython",
    "version": 3
   },
   "file_extension": ".py",
   "mimetype": "text/x-python",
   "name": "python",
   "nbconvert_exporter": "python",
   "pygments_lexer": "ipython3",
   "version": "3.11.7"
  }
 },
 "nbformat": 4,
 "nbformat_minor": 2
}
