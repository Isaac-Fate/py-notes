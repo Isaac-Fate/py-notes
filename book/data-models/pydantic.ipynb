{
 "cells": [
  {
   "cell_type": "markdown",
   "metadata": {},
   "source": [
    "# Pydantic"
   ]
  },
  {
   "cell_type": "markdown",
   "metadata": {},
   "source": [
    "## Private Attributes"
   ]
  },
  {
   "cell_type": "code",
   "execution_count": 41,
   "metadata": {},
   "outputs": [
    {
     "name": "stdout",
     "output_type": "stream",
     "text": [
      "None\n",
      "0:00:00.001064\n"
     ]
    }
   ],
   "source": [
    "from typing import Optional\n",
    "from pydantic import BaseModel, ConfigDict\n",
    "from datetime import datetime\n",
    "\n",
    "\n",
    "class TodoItem(BaseModel):\n",
    "    content: str\n",
    "    _is_completed: bool = False\n",
    "    _created_at: datetime = datetime.now()\n",
    "    _completed_at: Optional[datetime] = None\n",
    "\n",
    "    model_config = ConfigDict(\n",
    "        frozen=True,\n",
    "    )\n",
    "\n",
    "    @property\n",
    "    def is_completed(self):\n",
    "        return self._is_completed\n",
    "\n",
    "    def complete(self) -> None:\n",
    "        self._is_completed = True\n",
    "        self._completed_at = datetime.now()\n",
    "\n",
    "    def spent_time(self) -> Optional[datetime]:\n",
    "        if self._completed_at is None:\n",
    "            return None\n",
    "        else:\n",
    "            return self._completed_at - self._created_at\n",
    "\n",
    "\n",
    "item = TodoItem(content=\"Do homework\")\n",
    "print(item.spent_time())\n",
    "item.complete()\n",
    "print(item.spent_time())"
   ]
  },
  {
   "cell_type": "code",
   "execution_count": 43,
   "metadata": {},
   "outputs": [],
   "source": [
    "item._is_completed = True"
   ]
  },
  {
   "cell_type": "code",
   "execution_count": 40,
   "metadata": {},
   "outputs": [
    {
     "name": "stdout",
     "output_type": "stream",
     "text": [
      "None\n",
      "0:00:00.000242\n"
     ]
    }
   ],
   "source": [
    "from typing import Optional\n",
    "from pydantic import BaseModel, PrivateAttr\n",
    "from datetime import datetime\n",
    "\n",
    "\n",
    "class TodoItem(BaseModel):\n",
    "    content: str\n",
    "    _is_completed: bool = PrivateAttr(default=False)\n",
    "    _created_at: datetime = PrivateAttr(default_factory=datetime.now)\n",
    "    _completed_at: Optional[datetime] = PrivateAttr(default=None)\n",
    "\n",
    "    @property\n",
    "    def is_completed(self):\n",
    "        return self._is_completed\n",
    "\n",
    "    def complete(self) -> None:\n",
    "        self._is_completed = True\n",
    "        self._completed_at = datetime.now()\n",
    "\n",
    "    def spent_time(self) -> Optional[datetime]:\n",
    "        if self._completed_at is None:\n",
    "            return None\n",
    "        else:\n",
    "            return self._completed_at - self._created_at\n",
    "\n",
    "\n",
    "item = TodoItem(content=\"Do homework\")\n",
    "print(item.spent_time())\n",
    "item.complete()\n",
    "print(item.spent_time())"
   ]
  },
  {
   "cell_type": "code",
   "execution_count": 44,
   "metadata": {},
   "outputs": [],
   "source": [
    "item._is_completed = False"
   ]
  },
  {
   "cell_type": "code",
   "execution_count": 34,
   "metadata": {},
   "outputs": [
    {
     "data": {
      "text/plain": [
       "{'content': 'Do homework'}"
      ]
     },
     "execution_count": 34,
     "metadata": {},
     "output_type": "execute_result"
    }
   ],
   "source": [
    "item.model_dump()"
   ]
  },
  {
   "cell_type": "code",
   "execution_count": 37,
   "metadata": {},
   "outputs": [
    {
     "data": {
      "text/plain": [
       "False"
      ]
     },
     "execution_count": 37,
     "metadata": {},
     "output_type": "execute_result"
    }
   ],
   "source": [
    "item._is_completed = False\n",
    "item._is_completed"
   ]
  },
  {
   "cell_type": "markdown",
   "metadata": {},
   "source": [
    "## Class Attributes"
   ]
  },
  {
   "cell_type": "markdown",
   "metadata": {},
   "source": [
    "Class attributes can be defined with the type annotation `ClassVar`."
   ]
  },
  {
   "cell_type": "code",
   "execution_count": 2,
   "metadata": {},
   "outputs": [
    {
     "data": {
      "text/plain": [
       "User(name='isaac fei', age=23)"
      ]
     },
     "execution_count": 2,
     "metadata": {},
     "output_type": "execute_result"
    }
   ],
   "source": [
    "from typing import ClassVar\n",
    "from pydantic import BaseModel\n",
    "\n",
    "\n",
    "class NameFormatter:\n",
    "    def __init__(self, capitalized: bool = False) -> None:\n",
    "        self._capitalized = capitalized\n",
    "\n",
    "    def format(self, name: str) -> str:\n",
    "        name = name.strip().title()\n",
    "\n",
    "        if self._capitalized:\n",
    "            name = name.upper()\n",
    "\n",
    "        return name\n",
    "\n",
    "\n",
    "class User(BaseModel):\n",
    "    name_formatter: ClassVar[NameFormatter]\n",
    "\n",
    "    name: str\n",
    "    age: int\n",
    "\n",
    "    @property\n",
    "    def formatted_name(self) -> str:\n",
    "        return self.name_formatter.format(self.name)\n",
    "\n",
    "\n",
    "user = User(name=\"isaac fei\", age=23)\n",
    "\n",
    "user"
   ]
  },
  {
   "cell_type": "code",
   "execution_count": 3,
   "metadata": {},
   "outputs": [
    {
     "data": {
      "text/plain": [
       "'ISAAC FEI'"
      ]
     },
     "execution_count": 3,
     "metadata": {},
     "output_type": "execute_result"
    }
   ],
   "source": [
    "User.name_formatter = NameFormatter(capitalized=True)\n",
    "user.formatted_name"
   ]
  },
  {
   "cell_type": "markdown",
   "metadata": {},
   "source": [
    "## Post Initialization"
   ]
  },
  {
   "cell_type": "markdown",
   "metadata": {},
   "source": [
    "### Decorating with `model_validator`"
   ]
  },
  {
   "cell_type": "code",
   "execution_count": 4,
   "metadata": {},
   "outputs": [],
   "source": [
    "from pydantic import BaseModel, model_validator\n",
    "\n",
    "\n",
    "class User(BaseModel):\n",
    "    name: str\n",
    "    age: int\n",
    "\n",
    "    @model_validator(mode=\"after\")\n",
    "    def init_lucky_number(self) -> None:\n",
    "        # Create a private attribute\n",
    "        # using initialized attributes\n",
    "        self._lucky_number = hash(self.name)\n",
    "\n",
    "    @property\n",
    "    def lucky_number(self) -> int:\n",
    "        return self._lucky_number"
   ]
  },
  {
   "cell_type": "markdown",
   "metadata": {},
   "source": [
    "Note that we defined `self._lucky_number` as a private attribute with an underscore prefix. If we use self.lucky_number, an exception will be triggered due to a violation of Pydantic's validation rules."
   ]
  },
  {
   "cell_type": "markdown",
   "metadata": {},
   "source": [
    "To expose the value of `self._lucky_number`, we can make it a property."
   ]
  },
  {
   "cell_type": "code",
   "execution_count": 5,
   "metadata": {},
   "outputs": [
    {
     "data": {
      "text/plain": [
       "-662702122252289913"
      ]
     },
     "execution_count": 5,
     "metadata": {},
     "output_type": "execute_result"
    }
   ],
   "source": [
    "user = User(name=\"Isaac\", age=23)\n",
    "\n",
    "user.lucky_number"
   ]
  },
  {
   "cell_type": "markdown",
   "metadata": {},
   "source": [
    "### Overriding `model_post_init`"
   ]
  },
  {
   "cell_type": "markdown",
   "metadata": {},
   "source": [
    "Overriding the `BaseModel`'s method `model_post_init` is the preferred way of conducting the post initialization of the instance."
   ]
  },
  {
   "cell_type": "code",
   "execution_count": 6,
   "metadata": {},
   "outputs": [],
   "source": [
    "from typing import Any\n",
    "from pydantic import BaseModel\n",
    "\n",
    "\n",
    "class User(BaseModel):\n",
    "    name: str\n",
    "    age: int\n",
    "\n",
    "    def model_post_init(self, __context: Any) -> None:\n",
    "        # Call method of super class\n",
    "        super().model_post_init(__context)\n",
    "\n",
    "        # Create a private attribute\n",
    "        # using initialized attributes\n",
    "        self._lucky_number = hash(self.name)\n",
    "\n",
    "    @property\n",
    "    def lucky_number(self) -> int:\n",
    "        return self._lucky_number"
   ]
  },
  {
   "cell_type": "code",
   "execution_count": 7,
   "metadata": {},
   "outputs": [
    {
     "data": {
      "text/plain": [
       "-662702122252289913"
      ]
     },
     "execution_count": 7,
     "metadata": {},
     "output_type": "execute_result"
    }
   ],
   "source": [
    "user = User(name=\"Isaac\", age=23)\n",
    "\n",
    "user.lucky_number"
   ]
  },
  {
   "cell_type": "code",
   "execution_count": null,
   "metadata": {},
   "outputs": [],
   "source": []
  },
  {
   "cell_type": "code",
   "execution_count": null,
   "metadata": {},
   "outputs": [],
   "source": []
  }
 ],
 "metadata": {
  "kernelspec": {
   "display_name": "py-notes-9ZCDQUKn-py3.11",
   "language": "python",
   "name": "python3"
  },
  "language_info": {
   "codemirror_mode": {
    "name": "ipython",
    "version": 3
   },
   "file_extension": ".py",
   "mimetype": "text/x-python",
   "name": "python",
   "nbconvert_exporter": "python",
   "pygments_lexer": "ipython3",
   "version": "3.11.7"
  }
 },
 "nbformat": 4,
 "nbformat_minor": 2
}
