{
 "cells": [
  {
   "cell_type": "markdown",
   "metadata": {},
   "source": [
    "# CSV"
   ]
  },
  {
   "cell_type": "code",
   "execution_count": 11,
   "metadata": {},
   "outputs": [],
   "source": [
    "import csv\n",
    "import tempfile\n",
    "from pathlib import Path\n",
    "from collections import namedtuple"
   ]
  },
  {
   "cell_type": "markdown",
   "metadata": {},
   "source": [
    "## Writing"
   ]
  },
  {
   "cell_type": "markdown",
   "metadata": {},
   "source": [
    "To write data to a CSV file, you may first open a file and create a CSV writer using `csv.writer()`. Then, use the `writerow()` method to write a single row of data, and `writerows()` to write multiple rows of data."
   ]
  },
  {
   "cell_type": "code",
   "execution_count": 8,
   "metadata": {},
   "outputs": [
    {
     "name": "stdout",
     "output_type": "stream",
     "text": [
      "id,name\n",
      "1,Isaac\n",
      "2,John\n",
      "\n"
     ]
    }
   ],
   "source": [
    "tmp_dir = tempfile.TemporaryDirectory()\n",
    "\n",
    "header = (\"id\", \"name\")\n",
    "\n",
    "data = [\n",
    "    (1, \"Isaac\"),\n",
    "    (2, \"John\"),\n",
    "]\n",
    "\n",
    "# CSV file path\n",
    "csv_file_path = Path(tmp_dir.name).joinpath(\"data.csv\")\n",
    "\n",
    "with open(csv_file_path, \"w\") as f:\n",
    "\n",
    "    # Create a CSV writer\n",
    "    writer = csv.writer(f)\n",
    "\n",
    "    # Write the header\n",
    "    writer.writerow(header)\n",
    "\n",
    "    # Write the data\n",
    "    writer.writerows(data)\n",
    "\n",
    "# Read CSV file\n",
    "with open(csv_file_path, \"r\") as f:\n",
    "    content = f.read()\n",
    "\n",
    "# Print CSV file content\n",
    "print(content)\n",
    "\n",
    "tmp_dir.cleanup()"
   ]
  },
  {
   "cell_type": "code",
   "execution_count": 20,
   "metadata": {},
   "outputs": [
    {
     "name": "stdout",
     "output_type": "stream",
     "text": [
      "id,name\n",
      "1,Isaac\n",
      "2,John\n",
      "\n"
     ]
    }
   ],
   "source": [
    "tmp_dir = tempfile.TemporaryDirectory()\n",
    "\n",
    "Sample = namedtuple(\n",
    "    \"Sample\",\n",
    "    (\n",
    "        \"id\",\n",
    "        \"name\",\n",
    "    ),\n",
    ")\n",
    "\n",
    "header = Sample._fields\n",
    "\n",
    "data = [\n",
    "    Sample(id=1, name=\"Isaac\"),\n",
    "    Sample(id=2, name=\"John\"),\n",
    "]\n",
    "\n",
    "# CSV file path\n",
    "csv_file_path = Path(tmp_dir.name).joinpath(\"data.csv\")\n",
    "\n",
    "with open(csv_file_path, \"w\") as f:\n",
    "\n",
    "    # Create a CSV writer\n",
    "    writer = csv.writer(f)\n",
    "\n",
    "    # Write the header\n",
    "    writer.writerow(header)\n",
    "\n",
    "    # Write the data\n",
    "    writer.writerows(data)\n",
    "\n",
    "# Read CSV file\n",
    "with open(csv_file_path, \"r\") as f:\n",
    "    content = f.read()\n",
    "\n",
    "# Print CSV file content\n",
    "print(content)\n",
    "\n",
    "tmp_dir.cleanup()"
   ]
  },
  {
   "cell_type": "markdown",
   "metadata": {},
   "source": [
    "## Reading"
   ]
  },
  {
   "cell_type": "code",
   "execution_count": 10,
   "metadata": {},
   "outputs": [
    {
     "name": "stdout",
     "output_type": "stream",
     "text": [
      "['id', 'name']\n",
      "['1', 'Isaac']\n",
      "['2', 'John']\n"
     ]
    }
   ],
   "source": [
    "tmp_dir = tempfile.TemporaryDirectory()\n",
    "\n",
    "header = (\"id\", \"name\")\n",
    "\n",
    "data = [\n",
    "    (1, \"Isaac\"),\n",
    "    (2, \"John\"),\n",
    "]\n",
    "\n",
    "# CSV file path\n",
    "csv_file_path = Path(tmp_dir.name).joinpath(\"data.csv\")\n",
    "\n",
    "with open(csv_file_path, \"w\") as f:\n",
    "\n",
    "    # Create a CSV writer\n",
    "    writer = csv.writer(f)\n",
    "\n",
    "    # Write the header\n",
    "    writer.writerow(header)\n",
    "\n",
    "    # Write the data\n",
    "    writer.writerows(data)\n",
    "\n",
    "# Read CSV file\n",
    "with open(csv_file_path, \"r\") as f:\n",
    "\n",
    "    # Create a CSV reader\n",
    "    reader = csv.reader(f)\n",
    "\n",
    "    for row in reader:\n",
    "        print(row)\n",
    "\n",
    "\n",
    "tmp_dir.cleanup()"
   ]
  },
  {
   "cell_type": "code",
   "execution_count": null,
   "metadata": {},
   "outputs": [],
   "source": []
  }
 ],
 "metadata": {
  "kernelspec": {
   "display_name": "py-notes",
   "language": "python",
   "name": "python3"
  },
  "language_info": {
   "codemirror_mode": {
    "name": "ipython",
    "version": 3
   },
   "file_extension": ".py",
   "mimetype": "text/x-python",
   "name": "python",
   "nbconvert_exporter": "python",
   "pygments_lexer": "ipython3",
   "version": "3.11.7"
  }
 },
 "nbformat": 4,
 "nbformat_minor": 2
}
