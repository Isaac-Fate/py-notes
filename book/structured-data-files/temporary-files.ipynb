{
 "cells": [
  {
   "cell_type": "markdown",
   "metadata": {},
   "source": [
    "# Temporary Files"
   ]
  },
  {
   "cell_type": "code",
   "execution_count": 67,
   "metadata": {},
   "outputs": [],
   "source": [
    "import tempfile\n",
    "import json"
   ]
  },
  {
   "cell_type": "markdown",
   "metadata": {},
   "source": [
    "## Temporary Files"
   ]
  },
  {
   "cell_type": "markdown",
   "metadata": {},
   "source": [
    "### Quick Start"
   ]
  },
  {
   "cell_type": "markdown",
   "metadata": {},
   "source": [
    "The following code creates a temporary file and writes some data to it."
   ]
  },
  {
   "cell_type": "markdown",
   "metadata": {},
   "source": [
    "The default file mode is `\"w+b\"`. So, you should write bytes in the following example."
   ]
  },
  {
   "cell_type": "code",
   "execution_count": 58,
   "metadata": {},
   "outputs": [
    {
     "data": {
      "text/plain": [
       "13"
      ]
     },
     "execution_count": 58,
     "metadata": {},
     "output_type": "execute_result"
    }
   ],
   "source": [
    "# Create a temporary file\n",
    "tmp_file = tempfile.TemporaryFile()\n",
    "\n",
    "# Write some data\n",
    "# You should write bytes since the file mode is \"w+b\"\n",
    "tmp_file.write(b\"Hello, World!\")"
   ]
  },
  {
   "cell_type": "markdown",
   "metadata": {},
   "source": [
    "If you want to check the content of the temporary file, you can use the `read()` method.\n",
    "\n",
    "But before that, remember to seek to the beginning of the file!\n",
    "This is because the file pointer is now at the end of the data you have written to it."
   ]
  },
  {
   "cell_type": "code",
   "execution_count": 59,
   "metadata": {},
   "outputs": [
    {
     "name": "stdout",
     "output_type": "stream",
     "text": [
      "file content: b'Hello, World!'\n"
     ]
    }
   ],
   "source": [
    "tmp_file.seek(0)\n",
    "content = tmp_file.read()\n",
    "\n",
    "print(f\"file content: {content}\")"
   ]
  },
  {
   "cell_type": "markdown",
   "metadata": {},
   "source": [
    "When you close the file, it will be automatically deleted."
   ]
  },
  {
   "cell_type": "code",
   "execution_count": 60,
   "metadata": {},
   "outputs": [],
   "source": [
    "# Close the file to delete it\n",
    "tmp_file.close()\n",
    "\n",
    "# The file is now deleted"
   ]
  },
  {
   "cell_type": "markdown",
   "metadata": {},
   "source": [
    "### Temporary Files with `NamedTemporaryFile`"
   ]
  },
  {
   "cell_type": "markdown",
   "metadata": {},
   "source": [
    "If you want to know where the temporary file is created, you may create it with `NamedTemporaryFile()` and then check the `name` property."
   ]
  },
  {
   "cell_type": "markdown",
   "metadata": {},
   "source": [
    "I have not yet figured out how to get the file path of the temporary file created by `tempfile.TemporaryFile()`."
   ]
  },
  {
   "cell_type": "code",
   "execution_count": 61,
   "metadata": {},
   "outputs": [
    {
     "name": "stdout",
     "output_type": "stream",
     "text": [
      "/var/folders/ys/b1hv6dln0t38g92zzgh9xgsw0000gn/T/tmp7icnsi85\n"
     ]
    }
   ],
   "source": [
    "# Create a temporary file\n",
    "tmp_file = tempfile.NamedTemporaryFile()\n",
    "\n",
    "# This shows the path of the file\n",
    "print(tmp_file.name)\n",
    "\n",
    "# Close to delete the file\n",
    "tmp_file.close()"
   ]
  },
  {
   "cell_type": "markdown",
   "metadata": {},
   "source": [
    "### Specifying File Extensions"
   ]
  },
  {
   "cell_type": "code",
   "execution_count": 78,
   "metadata": {},
   "outputs": [
    {
     "name": "stdout",
     "output_type": "stream",
     "text": [
      "file path: /var/folders/ys/b1hv6dln0t38g92zzgh9xgsw0000gn/T/tmpd2vpqs8h.json\n",
      "data: {'message': 'Hello, World!'}\n"
     ]
    }
   ],
   "source": [
    "# Create a temporary file\n",
    "tmp_file = tempfile.NamedTemporaryFile(suffix=\".json\")\n",
    "\n",
    "# This is a JSON file\n",
    "print(f\"file path: {tmp_file.name}\")\n",
    "\n",
    "# Write some data\n",
    "tmp_file.write(b'{\"message\": \"Hello, World!\"}')\n",
    "\n",
    "# Read and parse the data\n",
    "tmp_file.seek(0)\n",
    "content = tmp_file.read()\n",
    "data = json.loads(content)\n",
    "print(f\"data: {data}\")\n",
    "\n",
    "# Close to delete the file\n",
    "tmp_file.close()"
   ]
  },
  {
   "cell_type": "markdown",
   "metadata": {},
   "source": [
    "### Context Manager"
   ]
  },
  {
   "cell_type": "markdown",
   "metadata": {},
   "source": [
    "Use a context manager to automatically close the temporary file."
   ]
  },
  {
   "cell_type": "code",
   "execution_count": 81,
   "metadata": {},
   "outputs": [],
   "source": [
    "with tempfile.TemporaryFile() as f:\n",
    "\n",
    "    f.write(b\"Hello, World!\")\n",
    "\n",
    "# The file is now deleted since the context manager closes it"
   ]
  },
  {
   "cell_type": "markdown",
   "metadata": {},
   "source": [
    "## Temporary Directories"
   ]
  },
  {
   "cell_type": "markdown",
   "metadata": {},
   "source": [
    "You can also create a temporary directory.\n",
    "The benefit of this is that you essentially create a temporary *workspace*."
   ]
  },
  {
   "cell_type": "code",
   "execution_count": 85,
   "metadata": {},
   "outputs": [
    {
     "name": "stdout",
     "output_type": "stream",
     "text": [
      "directory path: /var/folders/ys/b1hv6dln0t38g92zzgh9xgsw0000gn/T/tmpgx3trpep\n"
     ]
    }
   ],
   "source": [
    "# Create a temporary directory\n",
    "tmp_dir = tempfile.TemporaryDirectory()\n",
    "\n",
    "# Print the path of the temporary directory\n",
    "print(f\"directory path: {tmp_dir.name}\")\n",
    "\n",
    "# Delete the directory and all of its contents\n",
    "tmp_dir.cleanup()"
   ]
  },
  {
   "cell_type": "code",
   "execution_count": null,
   "metadata": {},
   "outputs": [],
   "source": []
  }
 ],
 "metadata": {
  "kernelspec": {
   "display_name": "py-notes-9ZCDQUKn-py3.11",
   "language": "python",
   "name": "python3"
  },
  "language_info": {
   "codemirror_mode": {
    "name": "ipython",
    "version": 3
   },
   "file_extension": ".py",
   "mimetype": "text/x-python",
   "name": "python",
   "nbconvert_exporter": "python",
   "pygments_lexer": "ipython3",
   "version": "3.11.7"
  }
 },
 "nbformat": 4,
 "nbformat_minor": 2
}
