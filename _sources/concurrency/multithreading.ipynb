{
 "cells": [
  {
   "cell_type": "markdown",
   "metadata": {},
   "source": [
    "# Multithreading"
   ]
  },
  {
   "cell_type": "markdown",
   "metadata": {},
   "source": [
    "## Thread Pool Executor"
   ]
  },
  {
   "cell_type": "code",
   "execution_count": 1,
   "metadata": {},
   "outputs": [],
   "source": [
    "from concurrent.futures import ThreadPoolExecutor\n",
    "import time"
   ]
  },
  {
   "cell_type": "markdown",
   "metadata": {},
   "source": [
    "Use a context manager to create a thread pool executor:"
   ]
  },
  {
   "cell_type": "code",
   "execution_count": 2,
   "metadata": {},
   "outputs": [
    {
     "name": "stdout",
     "output_type": "stream",
     "text": [
      "231"
     ]
    }
   ],
   "source": [
    "def echo(x):\n",
    "\n",
    "    # Sleep for a bit to simulate some work\n",
    "    time.sleep(1)\n",
    "\n",
    "    # Print the input\n",
    "    print(x, end=\"\")\n",
    "\n",
    "\n",
    "# This will roughly take 1 second to run\n",
    "with ThreadPoolExecutor(max_workers=8) as executor:\n",
    "    executor.submit(echo, 1)\n",
    "    executor.submit(echo, 2)\n",
    "    executor.submit(echo, 3)"
   ]
  },
  {
   "cell_type": "markdown",
   "metadata": {},
   "source": [
    "In the above example, we used method `submit` to submit a task to the executor.\n",
    "The executor will automatically allocate threads to execute the tasks."
   ]
  },
  {
   "cell_type": "code",
   "execution_count": 3,
   "metadata": {},
   "outputs": [
    {
     "name": "stdout",
     "output_type": "stream",
     "text": [
      "123"
     ]
    }
   ],
   "source": [
    "# This will probably take more than 1 second to run since\n",
    "# we can only create at most 2 threads\n",
    "with ThreadPoolExecutor(max_workers=2) as executor:\n",
    "    executor.submit(echo, 1)\n",
    "    executor.submit(echo, 2)\n",
    "    executor.submit(echo, 3)"
   ]
  },
  {
   "cell_type": "markdown",
   "metadata": {},
   "source": [
    "Use `map` to submit multiple tasks in parallel:"
   ]
  },
  {
   "cell_type": "code",
   "execution_count": 4,
   "metadata": {},
   "outputs": [
    {
     "name": "stdout",
     "output_type": "stream",
     "text": [
      "1049375268"
     ]
    }
   ],
   "source": [
    "with ThreadPoolExecutor(max_workers=16) as executor:\n",
    "\n",
    "    inputs = range(10)\n",
    "\n",
    "    # Submit 10 tasks\n",
    "    executor.map(echo, inputs)"
   ]
  },
  {
   "cell_type": "code",
   "execution_count": 5,
   "metadata": {},
   "outputs": [
    {
     "name": "stdout",
     "output_type": "stream",
     "text": [
      "2\n"
     ]
    }
   ],
   "source": [
    "def plus_one(x: int) -> int:\n",
    "    time.sleep(1)\n",
    "    return x + 1\n",
    "\n",
    "\n",
    "with ThreadPoolExecutor(max_workers=8) as executor:\n",
    "\n",
    "    future = executor.submit(plus_one, 1)\n",
    "    print(future.result())"
   ]
  },
  {
   "cell_type": "code",
   "execution_count": null,
   "metadata": {},
   "outputs": [],
   "source": []
  },
  {
   "cell_type": "code",
   "execution_count": null,
   "metadata": {},
   "outputs": [],
   "source": []
  }
 ],
 "metadata": {
  "kernelspec": {
   "display_name": "py-notes",
   "language": "python",
   "name": "python3"
  },
  "language_info": {
   "codemirror_mode": {
    "name": "ipython",
    "version": 3
   },
   "file_extension": ".py",
   "mimetype": "text/x-python",
   "name": "python",
   "nbconvert_exporter": "python",
   "pygments_lexer": "ipython3",
   "version": "3.11.7"
  }
 },
 "nbformat": 4,
 "nbformat_minor": 2
}
