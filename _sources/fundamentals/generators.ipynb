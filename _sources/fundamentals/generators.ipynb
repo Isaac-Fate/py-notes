{
 "cells": [
  {
   "cell_type": "markdown",
   "metadata": {},
   "source": [
    "# Generators"
   ]
  },
  {
   "cell_type": "markdown",
   "metadata": {},
   "source": [
    "## Fibonacci Sequence"
   ]
  },
  {
   "cell_type": "markdown",
   "metadata": {},
   "source": [
    "The Fibonacci sequence is a sequence of numbers where each number is the sum of the two preceding ones, starting from two $1$'s.\n",
    "\n",
    "The recurrence relation for the Fibonacci sequence is given by:\n",
    "\n",
    "$\n",
    "a_n = \\begin{cases}\n",
    "    1 & \\text{if } n = 1 \\\\\n",
    "    1 & \\text{if } n = 2 \\\\\n",
    "    a_{n-1} + a_{n-2} & \\text{if } n \\geq 3\n",
    "\\end{cases}\n",
    "$"
   ]
  },
  {
   "cell_type": "markdown",
   "metadata": {},
   "source": [
    "In the implementation, we can add two dummy elements $1$ and $0$ to the beginning of the actual sequence to generate the first two elements:\n",
    "\n",
    "$\n",
    "1, 0; 1, 1, 2, 3, 5, 8, \\ldots\n",
    "$"
   ]
  },
  {
   "cell_type": "code",
   "execution_count": 24,
   "metadata": {},
   "outputs": [],
   "source": [
    "def fibonacci():\n",
    "    # The two dummy elements are needed to start the sequence\n",
    "    second_last = 1\n",
    "    last = 0\n",
    "\n",
    "    while True:\n",
    "        # Calculate the current element\n",
    "        current = last + second_last\n",
    "        yield current\n",
    "\n",
    "        # Update the preceding two elements\n",
    "        second_last = last\n",
    "        last = current"
   ]
  },
  {
   "cell_type": "markdown",
   "metadata": {},
   "source": [
    "Print the first 6 elements:"
   ]
  },
  {
   "cell_type": "code",
   "execution_count": 29,
   "metadata": {},
   "outputs": [
    {
     "name": "stdout",
     "output_type": "stream",
     "text": [
      "1\n",
      "1\n",
      "2\n",
      "3\n",
      "5\n",
      "8\n"
     ]
    }
   ],
   "source": [
    "counter = 0\n",
    "\n",
    "# Iterate over the sequence\n",
    "for element in fibonacci():\n",
    "    # Print the element\n",
    "    print(element)\n",
    "\n",
    "    # Increment the counter\n",
    "    counter += 1\n",
    "    if counter == 6:\n",
    "        break"
   ]
  },
  {
   "cell_type": "markdown",
   "metadata": {},
   "source": [
    "What is the type of `fibnacci()`?"
   ]
  },
  {
   "cell_type": "code",
   "execution_count": 30,
   "metadata": {},
   "outputs": [
    {
     "data": {
      "text/plain": [
       "generator"
      ]
     },
     "execution_count": 30,
     "metadata": {},
     "output_type": "execute_result"
    }
   ],
   "source": [
    "type(fibonacci())"
   ]
  },
  {
   "cell_type": "code",
   "execution_count": 32,
   "metadata": {},
   "outputs": [
    {
     "data": {
      "text/plain": [
       "True"
      ]
     },
     "execution_count": 32,
     "metadata": {},
     "output_type": "execute_result"
    }
   ],
   "source": [
    "from collections.abc import Generator\n",
    "\n",
    "isinstance(fibonacci(), Generator)"
   ]
  },
  {
   "cell_type": "markdown",
   "metadata": {},
   "source": [
    "## Generator Class"
   ]
  },
  {
   "cell_type": "code",
   "execution_count": 58,
   "metadata": {},
   "outputs": [],
   "source": [
    "from typing import Optional\n",
    "\n",
    "\n",
    "class Fibonacci(Generator[int, None, None]):\n",
    "    def __init__(self, max_n_elements: Optional[int] = None) -> None:\n",
    "        # Two preceding elements\n",
    "        self._second_last = 1\n",
    "        self._last = 0\n",
    "\n",
    "        # Maximum number of elements to generate\n",
    "        self._max_n_elements = max_n_elements\n",
    "\n",
    "        # Current number of elements generated\n",
    "        self._n_elements = 0\n",
    "\n",
    "    def send(self, value) -> int:\n",
    "        \"\"\"Send a value into the generator.\n",
    "        Return next yielded value or raise StopIteration.\n",
    "        \"\"\"\n",
    "\n",
    "        # Calculate the current element\n",
    "        current = self._last + self._second_last\n",
    "\n",
    "        # Update the preceding two elements\n",
    "        self._second_last = self._last\n",
    "        self._last = current\n",
    "\n",
    "        # Increment the counter\n",
    "        self._n_elements += 1\n",
    "\n",
    "        # Check if we have reached the maximum number of elements\n",
    "        if self._max_n_elements is not None and self._n_elements > self._max_n_elements:\n",
    "            raise StopIteration\n",
    "\n",
    "        # Return the current element\n",
    "        return current\n",
    "\n",
    "    def throw(self, typ, val=None, tb=None):\n",
    "        \"\"\"Raise an exception in the generator.\n",
    "        Return next yielded value or raise StopIteration.\n",
    "        \"\"\"\n",
    "\n",
    "        if val is None:\n",
    "            if tb is None:\n",
    "                raise typ\n",
    "            val = typ()\n",
    "        if tb is not None:\n",
    "            val = val.with_traceback(tb)\n",
    "        raise val"
   ]
  },
  {
   "cell_type": "code",
   "execution_count": 59,
   "metadata": {},
   "outputs": [
    {
     "name": "stdout",
     "output_type": "stream",
     "text": [
      "1\n",
      "1\n",
      "2\n",
      "3\n",
      "5\n",
      "8\n"
     ]
    }
   ],
   "source": [
    "fib = Fibonacci(max_n_elements=6)\n",
    "\n",
    "for element in fib:\n",
    "    print(element)"
   ]
  },
  {
   "cell_type": "code",
   "execution_count": null,
   "metadata": {},
   "outputs": [],
   "source": []
  }
 ],
 "metadata": {
  "kernelspec": {
   "display_name": "py-notes",
   "language": "python",
   "name": "python3"
  },
  "language_info": {
   "codemirror_mode": {
    "name": "ipython",
    "version": 3
   },
   "file_extension": ".py",
   "mimetype": "text/x-python",
   "name": "python",
   "nbconvert_exporter": "python",
   "pygments_lexer": "ipython3",
   "version": "3.11.7"
  }
 },
 "nbformat": 4,
 "nbformat_minor": 2
}
