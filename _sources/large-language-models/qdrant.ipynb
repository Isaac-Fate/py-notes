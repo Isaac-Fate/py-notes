{
 "cells": [
  {
   "cell_type": "markdown",
   "metadata": {},
   "source": [
    "# Qdrant"
   ]
  },
  {
   "cell_type": "markdown",
   "metadata": {},
   "source": [
    "## Connection"
   ]
  },
  {
   "cell_type": "code",
   "execution_count": 1,
   "metadata": {},
   "outputs": [
    {
     "data": {
      "text/plain": [
       "<qdrant_client.qdrant_client.QdrantClient at 0x10a6ca390>"
      ]
     },
     "execution_count": 1,
     "metadata": {},
     "output_type": "execute_result"
    }
   ],
   "source": [
    "from qdrant_client import QdrantClient\n",
    "\n",
    "client = QdrantClient(\n",
    "    url=\"http://localhost:6333\"\n",
    ")\n",
    "\n",
    "client"
   ]
  },
  {
   "cell_type": "markdown",
   "metadata": {},
   "source": [
    "## Collection"
   ]
  },
  {
   "cell_type": "markdown",
   "metadata": {},
   "source": [
    "Create a collection named *test*:"
   ]
  },
  {
   "cell_type": "code",
   "execution_count": 2,
   "metadata": {},
   "outputs": [
    {
     "data": {
      "text/plain": [
       "True"
      ]
     },
     "execution_count": 2,
     "metadata": {},
     "output_type": "execute_result"
    }
   ],
   "source": [
    "from qdrant_client.models import VectorParams, Distance\n",
    "\n",
    "client.recreate_collection(\n",
    "    collection_name=\"test\",\n",
    "    vectors_config=VectorParams(\n",
    "        # Embeding dimension\n",
    "        size=1536,\n",
    "        \n",
    "        # The distance metic is specified here\n",
    "        # because Qdrant normalizes the vectors\n",
    "        # the time they are inserted (if the cosine similarity is set)\n",
    "        # to improve search effeciency\n",
    "        distance=Distance.COSINE\n",
    "    )\n",
    ")"
   ]
  },
  {
   "cell_type": "markdown",
   "metadata": {},
   "source": [
    "Get existing collection names:"
   ]
  },
  {
   "cell_type": "code",
   "execution_count": 3,
   "metadata": {},
   "outputs": [
    {
     "data": {
      "text/plain": [
       "['note-vecs', 'test']"
      ]
     },
     "execution_count": 3,
     "metadata": {},
     "output_type": "execute_result"
    }
   ],
   "source": [
    "list(map(\n",
    "    lambda collection_description: collection_description.name,\n",
    "    client.get_collections().collections\n",
    "))"
   ]
  },
  {
   "cell_type": "markdown",
   "metadata": {},
   "source": [
    "## Insertion"
   ]
  },
  {
   "cell_type": "code",
   "execution_count": 4,
   "metadata": {},
   "outputs": [],
   "source": [
    "import openai\n",
    "\n",
    "text = \"Qdrant is a powerful vector database.\"\n"
   ]
  },
  {
   "cell_type": "code",
   "execution_count": 5,
   "metadata": {},
   "outputs": [
    {
     "ename": "ValidationError",
     "evalue": "2 validation errors for PointStruct\nid\n  Field required [type=missing, input_value={}, input_type=dict]\n    For further information visit https://errors.pydantic.dev/2.4/v/missing\nvector\n  Field required [type=missing, input_value={}, input_type=dict]\n    For further information visit https://errors.pydantic.dev/2.4/v/missing",
     "output_type": "error",
     "traceback": [
      "\u001b[0;31m---------------------------------------------------------------------------\u001b[0m",
      "\u001b[0;31mValidationError\u001b[0m                           Traceback (most recent call last)",
      "\u001b[1;32m/Users/isaac/Documents/py-notes/large-language-models/qdrant.ipynb Cell 11\u001b[0m line \u001b[0;36m8\n\u001b[1;32m      <a href='vscode-notebook-cell:/Users/isaac/Documents/py-notes/large-language-models/qdrant.ipynb#X13sZmlsZQ%3D%3D?line=0'>1</a>\u001b[0m \u001b[39mfrom\u001b[39;00m \u001b[39mqdrant_client\u001b[39;00m\u001b[39m.\u001b[39;00m\u001b[39mmodels\u001b[39;00m \u001b[39mimport\u001b[39;00m PointStruct\n\u001b[1;32m      <a href='vscode-notebook-cell:/Users/isaac/Documents/py-notes/large-language-models/qdrant.ipynb#X13sZmlsZQ%3D%3D?line=4'>5</a>\u001b[0m client\u001b[39m.\u001b[39mupsert(\n\u001b[1;32m      <a href='vscode-notebook-cell:/Users/isaac/Documents/py-notes/large-language-models/qdrant.ipynb#X13sZmlsZQ%3D%3D?line=5'>6</a>\u001b[0m     collection_name\u001b[39m=\u001b[39m\u001b[39m\"\u001b[39m\u001b[39mtest\u001b[39m\u001b[39m\"\u001b[39m,\n\u001b[1;32m      <a href='vscode-notebook-cell:/Users/isaac/Documents/py-notes/large-language-models/qdrant.ipynb#X13sZmlsZQ%3D%3D?line=6'>7</a>\u001b[0m     points\u001b[39m=\u001b[39m[\n\u001b[0;32m----> <a href='vscode-notebook-cell:/Users/isaac/Documents/py-notes/large-language-models/qdrant.ipynb#X13sZmlsZQ%3D%3D?line=7'>8</a>\u001b[0m         PointStruct()\n\u001b[1;32m      <a href='vscode-notebook-cell:/Users/isaac/Documents/py-notes/large-language-models/qdrant.ipynb#X13sZmlsZQ%3D%3D?line=8'>9</a>\u001b[0m     ]\n\u001b[1;32m     <a href='vscode-notebook-cell:/Users/isaac/Documents/py-notes/large-language-models/qdrant.ipynb#X13sZmlsZQ%3D%3D?line=9'>10</a>\u001b[0m )\n",
      "File \u001b[0;32m~/Library/Caches/pypoetry/virtualenvs/py-notes-9ZCDQUKn-py3.11/lib/python3.11/site-packages/pydantic/main.py:164\u001b[0m, in \u001b[0;36mBaseModel.__init__\u001b[0;34m(__pydantic_self__, **data)\u001b[0m\n\u001b[1;32m    162\u001b[0m \u001b[39m# `__tracebackhide__` tells pytest and some other tools to omit this function from tracebacks\u001b[39;00m\n\u001b[1;32m    163\u001b[0m __tracebackhide__ \u001b[39m=\u001b[39m \u001b[39mTrue\u001b[39;00m\n\u001b[0;32m--> 164\u001b[0m __pydantic_self__\u001b[39m.\u001b[39;49m__pydantic_validator__\u001b[39m.\u001b[39;49mvalidate_python(data, self_instance\u001b[39m=\u001b[39;49m__pydantic_self__)\n",
      "\u001b[0;31mValidationError\u001b[0m: 2 validation errors for PointStruct\nid\n  Field required [type=missing, input_value={}, input_type=dict]\n    For further information visit https://errors.pydantic.dev/2.4/v/missing\nvector\n  Field required [type=missing, input_value={}, input_type=dict]\n    For further information visit https://errors.pydantic.dev/2.4/v/missing"
     ]
    }
   ],
   "source": [
    "from qdrant_client.models import PointStruct\n",
    "\n",
    "client.upsert(\n",
    "    collection_name=\"test\",\n",
    "    points=[\n",
    "        PointStruct()\n",
    "    ]\n",
    ")"
   ]
  }
 ],
 "metadata": {
  "kernelspec": {
   "display_name": "notes",
   "language": "python",
   "name": "python3"
  },
  "language_info": {
   "codemirror_mode": {
    "name": "ipython",
    "version": 3
   },
   "file_extension": ".py",
   "mimetype": "text/x-python",
   "name": "python",
   "nbconvert_exporter": "python",
   "pygments_lexer": "ipython3",
   "version": "3.11.0"
  }
 },
 "nbformat": 4,
 "nbformat_minor": 2
}
