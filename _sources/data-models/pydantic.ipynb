{
 "cells": [
  {
   "cell_type": "markdown",
   "metadata": {},
   "source": [
    "# Pydantic"
   ]
  },
  {
   "cell_type": "markdown",
   "metadata": {},
   "source": [
    "## Post Initialization"
   ]
  },
  {
   "cell_type": "markdown",
   "metadata": {},
   "source": [
    "### Decorating with `model_validator`"
   ]
  },
  {
   "cell_type": "code",
   "execution_count": 1,
   "metadata": {},
   "outputs": [],
   "source": [
    "from pydantic import BaseModel, model_validator\n",
    "\n",
    "class User(BaseModel):\n",
    "    \n",
    "    name: str\n",
    "    age: int\n",
    "    \n",
    "    @model_validator(mode=\"after\")\n",
    "    def init_lucky_number(self) -> None:\n",
    "        \n",
    "        # Create a private attribute\n",
    "        # using initialized attributes\n",
    "        self._lucky_number = hash(self.name)\n",
    "        \n",
    "    @property\n",
    "    def lucky_number(self) -> int:\n",
    "        \n",
    "        return self._lucky_number"
   ]
  },
  {
   "cell_type": "markdown",
   "metadata": {},
   "source": [
    "Note that we defined `self._lucky_number` as a private attribute with an underscore prefix. If we use self.lucky_number, an exception will be triggered due to a violation of Pydantic's validation rules."
   ]
  },
  {
   "cell_type": "markdown",
   "metadata": {},
   "source": [
    "To expose the value of `self._lucky_number`, we can make it a property."
   ]
  },
  {
   "cell_type": "code",
   "execution_count": 2,
   "metadata": {},
   "outputs": [
    {
     "data": {
      "text/plain": [
       "-4694366392031887558"
      ]
     },
     "execution_count": 2,
     "metadata": {},
     "output_type": "execute_result"
    }
   ],
   "source": [
    "user = User(name=\"Isaac\", age=23)\n",
    "\n",
    "user.lucky_number"
   ]
  },
  {
   "cell_type": "markdown",
   "metadata": {},
   "source": [
    "### Overriding `model_post_init`"
   ]
  },
  {
   "cell_type": "markdown",
   "metadata": {},
   "source": [
    "Overriding the `BaseModel`'s method `model_post_init` is the preferred way of conducting the post initialization of the instance."
   ]
  },
  {
   "cell_type": "code",
   "execution_count": 3,
   "metadata": {},
   "outputs": [],
   "source": [
    "from typing import Any\n",
    "from pydantic import BaseModel\n",
    "\n",
    "class User(BaseModel):\n",
    "    \n",
    "    name: str\n",
    "    age: int\n",
    "    \n",
    "    def model_post_init(self, __context: Any) -> None:\n",
    "        \n",
    "        # Call method of super class\n",
    "        super().model_post_init(__context)\n",
    "        \n",
    "        # Create a private attribute\n",
    "        # using initialized attributes\n",
    "        self._lucky_number = hash(self.name)\n",
    "        \n",
    "    @property\n",
    "    def lucky_number(self) -> int:\n",
    "        \n",
    "        return self._lucky_number\n"
   ]
  },
  {
   "cell_type": "code",
   "execution_count": 4,
   "metadata": {},
   "outputs": [
    {
     "data": {
      "text/plain": [
       "-4694366392031887558"
      ]
     },
     "execution_count": 4,
     "metadata": {},
     "output_type": "execute_result"
    }
   ],
   "source": [
    "user = User(name=\"Isaac\", age=23)\n",
    "\n",
    "user.lucky_number"
   ]
  },
  {
   "cell_type": "code",
   "execution_count": null,
   "metadata": {},
   "outputs": [],
   "source": []
  }
 ],
 "metadata": {
  "kernelspec": {
   "display_name": "py-notes-9ZCDQUKn-py3.11",
   "language": "python",
   "name": "python3"
  },
  "language_info": {
   "codemirror_mode": {
    "name": "ipython",
    "version": 3
   },
   "file_extension": ".py",
   "mimetype": "text/x-python",
   "name": "python",
   "nbconvert_exporter": "python",
   "pygments_lexer": "ipython3",
   "version": "3.11.0"
  }
 },
 "nbformat": 4,
 "nbformat_minor": 2
}
