{
 "cells": [
  {
   "cell_type": "markdown",
   "metadata": {},
   "source": [
    "# Custom Generators"
   ]
  },
  {
   "cell_type": "code",
   "execution_count": 124,
   "metadata": {},
   "outputs": [],
   "source": [
    "from collections.abc import Generator\n",
    "\n",
    "class IntAndCharSequence(Generator):\n",
    "    \n",
    "    def __init__(self) -> None:\n",
    "        \n",
    "        self._item = {\n",
    "            \"integer\": 0,\n",
    "            \"character\": \"a\"\n",
    "        }\n",
    "        \n",
    "    def send(self, value):\n",
    "        \n",
    "        item = self._item.copy()\n",
    "        \n",
    "        if item[\"integer\"] == 10:\n",
    "            raise StopIteration\n",
    "        \n",
    "        self._item[\"integer\"] += 1\n",
    "        self._item[\"character\"] = chr(ord(self._item[\"character\"]) + 1)\n",
    "        \n",
    "        # import time\n",
    "        # time.sleep(0.1)\n",
    "        \n",
    "        return item\n",
    "        \n",
    "    def throw(self, typ, val=None, tb=None):\n",
    "        \"\"\"Raise an exception in the generator.\n",
    "        Return next yielded value or raise StopIteration.\n",
    "        \n",
    "        Notes\n",
    "        -----\n",
    "            This implementation is copied from https://github.com/python/cpython/blob/d5d3249e8a37936d32266fa06ac20017307a1f70/Lib/_collections_abc.py#L309.\n",
    "        \"\"\"\n",
    "        \n",
    "        if val is None:\n",
    "            if tb is None:\n",
    "                raise typ\n",
    "            val = typ()\n",
    "            \n",
    "        if tb is not None:\n",
    "            val = val.with_traceback(tb)\n",
    "            \n",
    "        raise val\n",
    "    "
   ]
  },
  {
   "cell_type": "code",
   "execution_count": 125,
   "metadata": {},
   "outputs": [
    {
     "name": "stdout",
     "output_type": "stream",
     "text": [
      "{'integer': 0, 'character': 'a'}\n",
      "{'integer': 1, 'character': 'b'}\n",
      "{'integer': 2, 'character': 'c'}\n",
      "{'integer': 3, 'character': 'd'}\n",
      "{'integer': 4, 'character': 'e'}\n",
      "{'integer': 5, 'character': 'f'}\n",
      "{'integer': 6, 'character': 'g'}\n",
      "{'integer': 7, 'character': 'h'}\n",
      "{'integer': 8, 'character': 'i'}\n",
      "{'integer': 9, 'character': 'j'}\n"
     ]
    }
   ],
   "source": [
    "for i, item in enumerate(IntAndCharSequence()):\n",
    "    print(item)\n",
    "    if i == 20:\n",
    "        break"
   ]
  },
  {
   "cell_type": "code",
   "execution_count": 27,
   "metadata": {},
   "outputs": [],
   "source": [
    "import operator\n",
    "import functools"
   ]
  },
  {
   "cell_type": "code",
   "execution_count": 36,
   "metadata": {},
   "outputs": [
    {
     "data": {
      "text/plain": [
       "operator.itemgetter('integer')"
      ]
     },
     "execution_count": 36,
     "metadata": {},
     "output_type": "execute_result"
    }
   ],
   "source": [
    "operator.itemgetter(\"integer\")"
   ]
  },
  {
   "cell_type": "code",
   "execution_count": 19,
   "metadata": {},
   "outputs": [
    {
     "name": "stdout",
     "output_type": "stream",
     "text": [
      "0\n",
      "1\n",
      "2\n",
      "3\n",
      "4\n",
      "5\n",
      "6\n",
      "7\n",
      "8\n",
      "9\n"
     ]
    }
   ],
   "source": [
    "for i, item in enumerate(map(lambda item: item.get(\"integer\"), IntAndCharSequence())):\n",
    "    print(item)\n",
    "    if i == 9:\n",
    "        break"
   ]
  },
  {
   "cell_type": "code",
   "execution_count": 37,
   "metadata": {},
   "outputs": [
    {
     "name": "stdout",
     "output_type": "stream",
     "text": [
      "0\n",
      "1\n",
      "2\n",
      "3\n",
      "4\n",
      "5\n",
      "6\n",
      "7\n",
      "8\n",
      "9\n"
     ]
    }
   ],
   "source": [
    "for i, item in enumerate(map(operator.itemgetter(\"integer\"), IntAndCharSequence())):\n",
    "    print(item)\n",
    "    if i == 9:\n",
    "        break"
   ]
  },
  {
   "cell_type": "code",
   "execution_count": 21,
   "metadata": {},
   "outputs": [],
   "source": [
    "g = map(lambda item: item.get(\"integer\"), IntAndCharSequence())"
   ]
  },
  {
   "cell_type": "code",
   "execution_count": 22,
   "metadata": {},
   "outputs": [
    {
     "data": {
      "text/plain": [
       "False"
      ]
     },
     "execution_count": 22,
     "metadata": {},
     "output_type": "execute_result"
    }
   ],
   "source": [
    "isinstance(g, Generator)"
   ]
  },
  {
   "cell_type": "code",
   "execution_count": 43,
   "metadata": {},
   "outputs": [
    {
     "data": {
      "text/plain": [
       "{'title': 'Foundamentals', 'sections': ['Custom Generators']}"
      ]
     },
     "execution_count": 43,
     "metadata": {},
     "output_type": "execute_result"
    }
   ],
   "source": [
    "from operator import getitem\n",
    "from functools import partial\n",
    "\n",
    "book = {\n",
    "    \"title\": \"A Python Notebook\",\n",
    "    \"chapters\": [\n",
    "        {\n",
    "            \"title\": \"Foundamentals\",\n",
    "            \"sections\": [\n",
    "                \"Custom Generators\"\n",
    "            ]\n",
    "        }\n",
    "    ]\n",
    "}\n",
    "\n",
    "getitem(getitem(book, \"chapters\"), 0)"
   ]
  },
  {
   "cell_type": "code",
   "execution_count": 54,
   "metadata": {},
   "outputs": [
    {
     "data": {
      "text/plain": [
       "functools.partial(<built-in function getitem>, 'chapters')"
      ]
     },
     "execution_count": 54,
     "metadata": {},
     "output_type": "execute_result"
    }
   ],
   "source": [
    "partial(getitem, \"chapters\")"
   ]
  },
  {
   "cell_type": "code",
   "execution_count": 114,
   "metadata": {},
   "outputs": [],
   "source": [
    "from typing import Self\n",
    "from abc import ABC, abstractmethod\n",
    "from typing import Any\n",
    "\n",
    "class PipelineComponent(ABC):\n",
    "    \n",
    "    def __call__(self, input: Any) -> Any:\n",
    "        \n",
    "        output = self.forward(input)\n",
    "        \n",
    "        return output\n",
    "        \n",
    "    def __or__(self, other: Self) -> Self:\n",
    "        \n",
    "        this = self\n",
    "        \n",
    "        class _CombinedComponent(PipelineComponent):\n",
    "            \n",
    "            def forward(self, input: Any) -> Any:\n",
    "                return other.forward(this.forward(input))\n",
    "        \n",
    "        component = _CombinedComponent()\n",
    "        \n",
    "        return component\n",
    "    \n",
    "    @abstractmethod\n",
    "    def forward(self, input: Any) -> Any:\n",
    "        pass\n",
    "\n",
    "class GetItem(PipelineComponent):\n",
    "    \n",
    "    def __init__(self, key: Any) -> None:\n",
    "        \n",
    "        super().__init__()\n",
    "        \n",
    "        self._key = key\n",
    "    \n",
    "    def forward(self, input: Any) -> Any:\n",
    "        \n",
    "        return getitem(input, self._key)\n",
    "    "
   ]
  },
  {
   "cell_type": "code",
   "execution_count": 116,
   "metadata": {},
   "outputs": [
    {
     "data": {
      "text/plain": [
       "'Custom Generators'"
      ]
     },
     "execution_count": 116,
     "metadata": {},
     "output_type": "execute_result"
    }
   ],
   "source": [
    "(GetItem(\"chapters\") | GetItem(0) | GetItem(\"sections\") | GetItem(0))(book)"
   ]
  },
  {
   "cell_type": "code",
   "execution_count": null,
   "metadata": {},
   "outputs": [],
   "source": []
  },
  {
   "cell_type": "code",
   "execution_count": 103,
   "metadata": {},
   "outputs": [
    {
     "data": {
      "text/plain": [
       "<__main__.PipelineComponent at 0x11606e590>"
      ]
     },
     "execution_count": 103,
     "metadata": {},
     "output_type": "execute_result"
    }
   ],
   "source": [
    "(GetItem(\"chapters\") | GetItem(0) | GetItem(\"sections\"))"
   ]
  },
  {
   "cell_type": "markdown",
   "metadata": {},
   "source": [
    "## Asynchronous Generators"
   ]
  },
  {
   "cell_type": "markdown",
   "metadata": {},
   "source": [
    "https://gist.github.com/jspahrsummers/32a8096667cf9f17d5e8fddeb081b202"
   ]
  },
  {
   "cell_type": "code",
   "execution_count": null,
   "metadata": {},
   "outputs": [],
   "source": []
  }
 ],
 "metadata": {
  "kernelspec": {
   "display_name": "notes",
   "language": "python",
   "name": "python3"
  },
  "language_info": {
   "codemirror_mode": {
    "name": "ipython",
    "version": 3
   },
   "file_extension": ".py",
   "mimetype": "text/x-python",
   "name": "python",
   "nbconvert_exporter": "python",
   "pygments_lexer": "ipython3",
   "version": "3.11.4"
  }
 },
 "nbformat": 4,
 "nbformat_minor": 2
}
